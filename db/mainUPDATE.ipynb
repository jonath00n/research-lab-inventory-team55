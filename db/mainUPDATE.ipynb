{
 "cells": [
  {
   "cell_type": "code",
   "execution_count": null,
   "metadata": {},
   "outputs": [],
   "source": [
    "from flask import Flask, request, jsonify\n",
    "import torch\n",
    "from torchvision import transforms\n",
    "from PIL import Image\n",
    "from sqlalchemy.orm import sessionmaker\n",
    "from sqlalchemy import create_engine\n",
    "from main import Item, sqlite_engine  # Import Item model and database connection from main.py\n",
    "\n",
    "\n"
   ]
  },
  {
   "cell_type": "code",
   "execution_count": null,
   "metadata": {},
   "outputs": [],
   "source": [
    "# Load trained model\n",
    "model = torch.load(\"ML_Model.pth\", map_location=torch.device(\"cpu\"))\n",
    "model.eval()\n",
    "\n",
    "# Define image preprocessing\n",
    "transform = transforms.Compose([\n",
    "    transforms.Resize((224, 224)),  \n",
    "    transforms.ToTensor(),  \n",
    "])\n",
    "\n",
    "# Create Flask app\n",
    "app = Flask(__name__)\n",
    "\n",
    "# Create a session for database operations\n",
    "SQLiteSession = sessionmaker(bind=sqlite_engine)\n",
    "sqlite_session = SQLiteSession()"
   ]
  },
  {
   "cell_type": "code",
   "execution_count": null,
   "metadata": {},
   "outputs": [],
   "source": [
    "@app.route('/predict', methods=['POST'])\n",
    "def predict():\n",
    "    if 'image' not in request.files:\n",
    "        return jsonify({\"error\": \"No image uploaded\"}), 400\n",
    "\n",
    "    file = request.files['image']\n",
    "    img = Image.open(file)\n",
    "    img = transform(img).unsqueeze(0)\n",
    "\n",
    "    with torch.no_grad():\n",
    "        output = model(img)\n",
    "        predicted_class = torch.argmax(output, dim=1).item()\n",
    "\n",
    "    # Map predicted class index to item name\n",
    "    class_mapping = {0: \"resistor\", 1: \"LED\", 2: \"capacitor\"}  # Update with actual classes\n",
    "    item_name = class_mapping.get(predicted_class, \"unknown\")\n",
    "\n",
    "    # Update item quantity in the SQLite database\n",
    "    item = sqlite_session.query(Item).filter_by(name=item_name).first()\n",
    "    if item:\n",
    "        item.quantity -= 1  # Reduce stock by 1\n",
    "        sqlite_session.commit()\n",
    "        return jsonify({\"predicted_class\": item_name, \"updated_quantity\": item.quantity})\n",
    "    else:\n",
    "        return jsonify({\"error\": \"Item not found in database\"}), 404\n",
    "\n",
    "if __name__ == \"__main__\":\n",
    "    app.run(host=\"0.0.0.0\", port=5000)  # Run Flask server"
   ]
  }
 ],
 "metadata": {
  "kernelspec": {
   "display_name": "Python 3.12.2 ('base')",
   "language": "python",
   "name": "python3"
  },
  "language_info": {
   "codemirror_mode": {
    "name": "ipython",
    "version": 3
   },
   "file_extension": ".py",
   "mimetype": "text/x-python",
   "name": "python",
   "nbconvert_exporter": "python",
   "pygments_lexer": "ipython3",
   "version": "3.12.2"
  },
  "orig_nbformat": 4,
  "vscode": {
   "interpreter": {
    "hash": "40d3a090f54c6569ab1632332b64b2c03c39dcf918b08424e98f38b5ae0af88f"
   }
  }
 },
 "nbformat": 4,
 "nbformat_minor": 2
}
